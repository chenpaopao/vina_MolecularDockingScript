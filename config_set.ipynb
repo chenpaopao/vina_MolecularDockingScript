{
 "cells": [
  {
   "cell_type": "markdown",
   "metadata": {},
   "source": [
    "#目标：生成config文件：\n",
    "#根据用户输入\n",
    "生成txt文件\n",
    "receptor = protein.pdbqt\n",
    "ligand = ligend.pdbqt\n",
    "\n",
    "center_x = -18.955\n",
    "center_y = -5.188\n",
    "center_z = 8.617\n",
    "size_x = 40\n",
    "size_y = 40\n",
    "size_z = 40\n",
    "energy_range =  4\n",
    "exhaustiveness = 8"
   ]
  },
  {
   "cell_type": "code",
   "execution_count": 11,
   "metadata": {},
   "outputs": [],
   "source": [
    "import os\n",
    "import sys\n",
    "import random"
   ]
  },
  {
   "cell_type": "code",
   "execution_count": 16,
   "metadata": {},
   "outputs": [],
   "source": [
    "def gen_config_file(output_name, ligand=\"ligand.pdbqt\",receptor=\"protein.pdbqt\",x=8, y=-8, z=8, size_x=40,size_y=40, size_z=40,energy_range =  4,exhaustiveness = 8):\n",
    "    \"\"\"\n",
    "\n",
    "    :param output_name: 输出路径名 \"./Config\"\n",
    "    :param x: x坐标\n",
    "    :param y: y坐标\n",
    "    :param z: z坐标\n",
    "    :param size: 盒子大小\n",
    "    :param energy_range  exhaustiveness ligand 配体文件名a.pdbqt receptor:受体文件名b.pdbqt\n",
    "    \"\"\"\n",
    "    #新建的config文件名\n",
    "    config_name = output_name+ os.sep + ligand[0:-6] +\"_\" + receptor[0:-6] + str(random.randint(1,50)) +\".txt\"\n",
    "    with open(config_name, \"w\", encoding='UTF-8') as f:\n",
    "        f.writelines(\"receptor = \" + str(receptor) + \"\\n\")\n",
    "        f.writelines(\"ligand = \" + str(ligand) + \"\\n\")\n",
    "        f.writelines(\"center_x = \" + str(x) + \"\\n\")\n",
    "        f.writelines(\"center_y = \" + str(y) + \"\\n\")\n",
    "        f.writelines(\"center_z = \" + str(z) + \"\\n\")\n",
    "        f.writelines(\"size_x = \" + str(size_x) + \"\\n\")\n",
    "        f.writelines(\"size_y = \" + str(size_x) + \"\\n\")\n",
    "        f.writelines(\"size_z = \" + str(size_x) + \"\\n\")\n",
    "        f.writelines(\"exhaustiveness = \" + str(exhaustiveness) + \"\\n\")\n",
    "        f.writelines(\"energy_range = \" + str(energy_range) + \"\\n\")"
   ]
  },
  {
   "cell_type": "code",
   "execution_count": 18,
   "metadata": {},
   "outputs": [],
   "source": [
    "gen_config_file(output_name=\"./Config\")"
   ]
  },
  {
   "cell_type": "code",
   "execution_count": 18,
   "metadata": {},
   "outputs": [],
   "source": [
    "# 1.导入pandas模块\n",
    "import pandas as pd\n",
    "\n",
    "def write_excel(excel_name=\"./input.xlsx\",output_name=\"./Config\"):\n",
    "    \"\"\"\n",
    "    将excel中的参数转换为config.txt文件\n",
    "    ：param excel_name：execl文件夹名 \"./input.xlsx\"\n",
    "    :param output_name config文件夹名 \"./Config\"\n",
    "    \"\"\"\n",
    "    # 3.读取excel的某一个sheet\n",
    "    df = pd.read_excel(excel_name, sheet_name='Sheet1')\n",
    "    print(df.columns)\n",
    "    print(df.index)\n",
    "    for indexs in df.index:\n",
    "        print(df.loc[indexs].values)\n",
    "        conf = df.loc[indexs].values\n",
    "        config_name = output_name+ os.sep + conf[0]+\".txt\"\n",
    "        with open(config_name, \"w\", encoding='UTF-8') as f:\n",
    "            f.writelines(\"receptor = \" + str(conf[1]) + \"\\n\")\n",
    "            f.writelines(\"ligand = \" + str(conf[2]) + \"\\n\")\n",
    "            f.writelines(\"center_x = \" + str(conf[3]) + \"\\n\")\n",
    "            f.writelines(\"center_y = \" + str(conf[4]) + \"\\n\")\n",
    "            f.writelines(\"center_z = \" + str(conf[5]) + \"\\n\")\n",
    "            f.writelines(\"size_x = \" + str(conf[6]) + \"\\n\")\n",
    "            f.writelines(\"size_y = \" + str(conf[7]) + \"\\n\")\n",
    "            f.writelines(\"size_z = \" + str(conf[8]) + \"\\n\")\n",
    "            f.writelines(\"exhaustiveness = \" + str(conf[9]) + \"\\n\")\n",
    "            f.writelines(\"energy_range = \" + str(conf[10]) + \"\\n\")\n",
    "\n"
   ]
  },
  {
   "cell_type": "code",
   "execution_count": 19,
   "metadata": {},
   "outputs": [
    {
     "name": "stdout",
     "output_type": "stream",
     "text": [
      "Index(['config名', 'protein名', 'ligand名', 'center_x', 'center_y', 'center_z',\n",
      "       'size_x', 'size_y', 'size_z', 'exhaustiveness', 'energy_range'],\n",
      "      dtype='object')\n",
      "RangeIndex(start=0, stop=19, step=1)\n",
      "['config2' 2 'hhh' 3 4 5 6 7 8 9 8]\n",
      "['config3' 2 1 3 4 5 6 7 8 9 8]\n",
      "['config4' 2 1 3 4 5 6 7 8 9 8]\n",
      "['config5' 2 1 3 4 5 6 7 8 9 8]\n",
      "['config6' 2 1 3 4 5 6 7 8 9 8]\n",
      "['config7' 2 1 3 4 5 6 7 8 9 8]\n",
      "['config8' 2 1 3 4 5 6 7 8 9 8]\n",
      "['config9' 2 1 3 4 5 6 7 8 9 8]\n",
      "['config10' 2 1 3 4 5 6 7 8 9 8]\n",
      "['config11' 2 1 3 4 5 6 7 8 9 8]\n",
      "['config12' 2 1 3 4 5 6 7 8 9 8]\n",
      "['config13' 2 1 3 4 5 6 7 8 9 8]\n",
      "['config14' 2 1 3 4 5 6 7 8 9 8]\n",
      "['config15' 2 1 3 4 5 6 7 8 9 8]\n",
      "['config16' 2 1 3 4 5 6 7 8 9 8]\n",
      "['config17' 2 1 3 4 5 6 7 8 9 8]\n",
      "['config18' 2 1 3 4 5 6 7 8 9 8]\n",
      "['config19' 2 1 3 4 5 6 7 8 9 8]\n",
      "['config20' 2 1 3 4 5 6 7 8 9 8]\n"
     ]
    }
   ],
   "source": [
    "write_excel()"
   ]
  }
 ],
 "metadata": {
  "interpreter": {
   "hash": "efd0a06bfc64b8cb307b9e94d39e74114e70fa7852e3078f2f97a637359a45a7"
  },
  "kernelspec": {
   "display_name": "Python 3.8.1 64-bit",
   "language": "python",
   "name": "python3"
  },
  "language_info": {
   "codemirror_mode": {
    "name": "ipython",
    "version": 3
   },
   "file_extension": ".py",
   "mimetype": "text/x-python",
   "name": "python",
   "nbconvert_exporter": "python",
   "pygments_lexer": "ipython3",
   "version": "3.8.8"
  },
  "orig_nbformat": 4
 },
 "nbformat": 4,
 "nbformat_minor": 2
}
