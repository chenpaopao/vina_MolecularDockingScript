{
 "cells": [
  {
   "cell_type": "code",
   "execution_count": 13,
   "metadata": {},
   "outputs": [],
   "source": [
    "import shutil\n",
    "import os\n",
    "import sys\n",
    "from tqdm import tqdm"
   ]
  },
  {
   "cell_type": "code",
   "execution_count": 3,
   "metadata": {},
   "outputs": [],
   "source": [
    "import os\n",
    "\n",
    "\n",
    "def vina_dock(output_dir,ligand, protein, config):\n",
    "    \"\"\"\n",
    "    使用vina命令进行对接\n",
    "    :param output_dir:输出的文件夹\n",
    "    :param ligand: 配体文件名 ligand.pdbqt\n",
    "    :param protein: 受体文件名 preped.pdbqt\n",
    "    :param config: 配置文件名 config1.txt\n",
    "    :param output:输出文件名 01.pdbqt\n",
    "    :return: 返回1表示正常\n",
    "    \"\"\"\n",
    "\n",
    "    cmd = \"vina --ligand %s --receptor %s --config %s --log %s --out %s\" % \\\n",
    "          (output_dir+os.sep+ligand, output_dir+os.sep+protein, config, output_dir+os.sep+\"log.txt\", output_dir+os.sep+\"output.pdbqt\")\n",
    "\n",
    "    #print(cmd)\n",
    "    return os.system(cmd)"
   ]
  },
  {
   "cell_type": "code",
   "execution_count": 16,
   "metadata": {},
   "outputs": [
    {
     "name": "stdout",
     "output_type": "stream",
     "text": [
      "vina --ligand .\\Output\\config_out\\ligend.pdbqt --receptor .\\Output\\config_out\\protein.pdbqt --config .\\Config\\config.txt --log .\\Output\\config_out\\log.txt --out .\\Output\\config_out\\output.pdbqt\n"
     ]
    },
    {
     "data": {
      "text/plain": [
       "0"
      ]
     },
     "execution_count": 16,
     "metadata": {},
     "output_type": "execute_result"
    }
   ],
   "source": [
    "vina_dock(r\".\\Output\\config_out\", r\"ligend.pdbqt\", r\"protein.pdbqt\",\n",
    "           r\".\\Config\\config.txt\",)"
   ]
  },
  {
   "cell_type": "code",
   "execution_count": 4,
   "metadata": {},
   "outputs": [],
   "source": [
    "def check_cmd_para(cmd_para):\n",
    "    # 直接运行\n",
    "    if len(cmd_para) == 1:\n",
    "        return 1\n",
    "    # 检查文件名\n",
    "    else:\n",
    "        for i in range(1,len(cmd_para)):\n",
    "            proteins = cmd_para[1]\n",
    "            if check_dir(proteins):\n",
    "                return 1\n",
    "            else:\n",
    "                return 0\n",
    "def check_dir(filename):\n",
    "    \"\"\"\n",
    "    :param filename: 判断的名字\n",
    "    :return: 如果是文件夹，如果存在返回1，不存在返回0。不是文件夹返回0。\n",
    "    \"\"\"\n",
    "    if os.path.isdir(filename):\n",
    "        if os.path.exists(filename):\n",
    "            return 1\n",
    "        else:\n",
    "            return 0\n",
    "    else:\n",
    "        return 0"
   ]
  },
  {
   "cell_type": "code",
   "execution_count": 5,
   "metadata": {},
   "outputs": [],
   "source": [
    "def mk_output_dir(output_path):\n",
    "    \"\"\"\n",
    "    如果不存在就创建输出文件夹\n",
    "    :param output_path: 目标文件夹\n",
    "    \"\"\"\n",
    "    if not os.path.exists(output_path):\n",
    "        try:\n",
    "            os.makedirs(output_path)\n",
    "        except FileExistsError:\n",
    "            return"
   ]
  },
  {
   "cell_type": "code",
   "execution_count": 6,
   "metadata": {},
   "outputs": [],
   "source": [
    "def copy_proteins(src_dir, dst_dir):\n",
    "    \"\"\"\n",
    "    将一个文件夹中的所有pdbqt格式的蛋白复制到另一个文件夹中\n",
    "    :param src_dir: 原始文件夹\n",
    "    :param dst_dir: 目标文件夹\n",
    "    \"\"\"\n",
    "    for file in os.listdir(src_dir):\n",
    "        if file.endswith(\".pdbqt\"):\n",
    "            src_file = os.path.join(src_dir, file)\n",
    "            shutil.copy(src_file, dst_dir)"
   ]
  },
  {
   "cell_type": "code",
   "execution_count": 7,
   "metadata": {},
   "outputs": [],
   "source": [
    "def read_para(txtdir,para_name):\n",
    "    \"\"\"\n",
    "    读取txtdir目标文件（txt文件），获取以para_name开头的那一行参数值\n",
    "    :param txtdir: 带读取的文件夹\n",
    "    :param para_name:待提取的参数值\n",
    "    \"\"\"\n",
    "    with open(txtdir, \"r\", encoding='UTF-8') as f:\n",
    "        for line in f.readlines():\n",
    "            if line.startswith(para_name):\n",
    "                return line.split(\"=\")[1].strip()"
   ]
  },
  {
   "cell_type": "code",
   "execution_count": 8,
   "metadata": {},
   "outputs": [],
   "source": [
    "def pdbqt2dir(proteins_dir,ligands_dir,out_path,configname,receptor,ligands):\n",
    "    \"\"\"\n",
    "    在output路径创建一个configname名字的文件夹，将pdbqt文件移动进去。\n",
    "    :param out_path: 文件夹创建路径\n",
    "    :configname:文件夹名字\n",
    "    \"\"\"\n",
    "    # 1.创建文件夹\n",
    "    out_path = out_path +os.sep + configname[0:-4]+\"out\"\n",
    "    if not os.path.exists(out_path):\n",
    "        os.mkdir(out_path)\n",
    "    # 2.复制文件\n",
    "    target_path = proteins_dir + os.sep + receptor\n",
    "    if not os.path.exists(target_path):\n",
    "        return False\n",
    "    else:\n",
    "        shutil.copyfile(target_path, out_path+os.sep+receptor)\n",
    "    \n",
    "    target_path = ligands_dir + os.sep + ligands\n",
    "    if not os.path.exists(target_path):\n",
    "        return False\n",
    "    else:\n",
    "        shutil.copyfile(target_path, out_path+os.sep+ligands)\n",
    "    return out_path\n",
    "    "
   ]
  },
  {
   "cell_type": "code",
   "execution_count": 9,
   "metadata": {},
   "outputs": [],
   "source": [
    "import sys\n",
    "class Main:\n",
    "\n",
    "    def __init__(self):\n",
    "        self.ligands_dir = None\n",
    "        self.proteins_dir = None\n",
    "        self.output_path = None\n",
    "\n",
    "    def run(self):\n",
    "\n",
    "        # 1.读取配体和受体\n",
    "        # 输入的配体放在./Ligands文件夹\n",
    "        # 指定受体文件夹\n",
    "        # 输出在./Output文件夹\n",
    "        # if not check_cmd_para(sys.argv):\n",
    "        #     print(\"INFO\")\n",
    "        #     sys.exit()\n",
    "        self.ligands_dir = \".\" + os.sep + \"Ligands\"\n",
    "        #self.proteins_dir = sys.argv[1]\n",
    "        self.proteins_dir = \".\" + os.sep + \"Proteins\"\n",
    "\n",
    "        self.config_dir = \".\" + os.sep + \"Config\"\n",
    "        self.output_path = \".\" + os.sep + \"Output\"\n",
    "\n",
    "        # 2、读取config文件夹中的每一个文件每一行\n",
    "        configs = tqdm(os.listdir(self.config_dir))\n",
    "        for config in configs:\n",
    "            configs.set_description(\"Processing %s\" % config)\n",
    "            nowconfig_dir = self.config_dir+os.sep+config\n",
    "            receptor = read_para(nowconfig_dir,\"receptor\")\n",
    "            ligand = read_para(nowconfig_dir,\"ligand\")\n",
    "            #energy_range = read_para(nowconfig_dir,\"energy_range\")\n",
    "            print(receptor,ligand)\n",
    "            #3、根据config文件中的 ligand，receptor进行对接前的文件复制\n",
    "            if not os.path.exists(self.ligands_dir + os.sep + ligand) or not os.path.exists(self.proteins_dir + os.sep + receptor):\n",
    "                print(\"在Proteins 或 Ligands文件中不存在{}文件中所需要的蛋白质或配体\".format(config))\n",
    "                continue\n",
    "            outpath = pdbqt2dir(self.proteins_dir,self.ligands_dir,self.output_path,config,receptor,ligand)\n",
    "            #现在在output文件夹下有了configi_out的文件夹\n",
    "            #4 进行对接\n",
    "            vina_dock(outpath, ligand,receptor, nowconfig_dir)\n",
    "        print(\"over\")\n"
   ]
  },
  {
   "cell_type": "code",
   "execution_count": null,
   "metadata": {},
   "outputs": [],
   "source": [
    "main = Main()\n",
    "main.run()"
   ]
  },
  {
   "cell_type": "code",
   "execution_count": null,
   "metadata": {},
   "outputs": [],
   "source": [
    "if __name__ == '__main__':\n",
    "    main = Main()\n",
    "    main.run()\n"
   ]
  }
 ],
 "metadata": {
  "interpreter": {
   "hash": "efd0a06bfc64b8cb307b9e94d39e74114e70fa7852e3078f2f97a637359a45a7"
  },
  "kernelspec": {
   "display_name": "Python 3.8.1 64-bit",
   "language": "python",
   "name": "python3"
  },
  "language_info": {
   "codemirror_mode": {
    "name": "ipython",
    "version": 3
   },
   "file_extension": ".py",
   "mimetype": "text/x-python",
   "name": "python",
   "nbconvert_exporter": "python",
   "pygments_lexer": "ipython3",
   "version": "3.8.1"
  },
  "orig_nbformat": 4
 },
 "nbformat": 4,
 "nbformat_minor": 2
}
